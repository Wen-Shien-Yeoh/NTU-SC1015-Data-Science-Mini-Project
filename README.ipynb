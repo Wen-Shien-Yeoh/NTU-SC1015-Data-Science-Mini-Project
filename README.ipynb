{
 "cells": [
  {
   "cell_type": "markdown",
   "id": "f520b6c5-ffe5-4316-80b6-6dbd4621ac54",
   "metadata": {},
   "source": [
    "# Assessing Earth’s Vulnerability"
   ]
  },
  {
   "cell_type": "markdown",
   "id": "ff580199-9c28-44f3-af73-bd827b8ff7d5",
   "metadata": {},
   "source": [
    "## About "
   ]
  },
  {
   "cell_type": "markdown",
   "id": "0448a1eb-6605-446a-bd85-7fe016b8ecda",
   "metadata": {},
   "source": [
    "### This is our Mini-Project for SC1015, where we focused on analyzing the relationship between various characteristics of asteroids and its hazardous level. A detailed walkthrough of our project can be viewed from our source code here."
   ]
  },
  {
   "cell_type": "markdown",
   "id": "ad802af7-de58-4422-b916-b8dc3f00cd0e",
   "metadata": {},
   "source": [
    "## Problem Definition"
   ]
  },
  {
   "cell_type": "markdown",
   "id": "71d8c90a-ed5e-456c-af57-cb43765b4303",
   "metadata": {},
   "source": [
    "#### <b>Question</b>: What is the likelihood of an asteroid posing a threat to Earth?"
   ]
  },
  {
   "cell_type": "markdown",
   "id": "be023ab8-6223-40f4-be9a-c87e4bf92e72",
   "metadata": {},
   "source": [
    "## Contributors"
   ]
  },
  {
   "cell_type": "markdown",
   "id": "d7cec47c-c864-481e-a647-97f41edec6bb",
   "metadata": {},
   "source": [
    "#### Yeoh Wen Shien - Finding dataset, Problem Formulation, EDA, Presentation Slides and video"
   ]
  },
  {
   "cell_type": "markdown",
   "id": "c998f53e-6c7b-4af6-ae35-b200eba52911",
   "metadata": {},
   "source": [
    "#### Seet Jia Viona - EDA, Logistic Regression, training Neural Network, Presentation Slides and video"
   ]
  },
  {
   "cell_type": "markdown",
   "id": "a470c0ab-b771-400a-85e3-1c434ffb7d4f",
   "metadata": {},
   "source": [
    "## Models Used"
   ]
  },
  {
   "cell_type": "markdown",
   "id": "dc75f464-ad2d-41db-bf66-eda143c76d65",
   "metadata": {},
   "source": [
    "#### 1. Logistic Regression\n",
    "#### 2. Neural Network "
   ]
  },
  {
   "cell_type": "markdown",
   "id": "a38afb5f-9d29-45e0-b51a-76808cf6f539",
   "metadata": {},
   "source": [
    "## Conclusion"
   ]
  },
  {
   "cell_type": "markdown",
   "id": "af907e81-9d04-43ef-8d40-b21677ab330b",
   "metadata": {},
   "source": [
    "#### variables chosen not sufficient to predict ‘Hazardous’ - weak linear relationship\n",
    "#### Need to use machine learning algorithms - logistic regression, neural networks\n",
    "#### Importance of AI and machine learning models"
   ]
  },
  {
   "cell_type": "markdown",
   "id": "8a4ead08-581a-4fa1-a1c5-94add5d805f7",
   "metadata": {},
   "source": [
    "## What did we learn?"
   ]
  },
  {
   "cell_type": "markdown",
   "id": "a5ca5b35-4633-4436-872a-cdaec31937b8",
   "metadata": {},
   "source": [
    "#### 1. Data Cleaning\n",
    "#### 2. Logistic Regression \n",
    "#### 3. Neural Network\n",
    "#### 4. Data Visualisation"
   ]
  },
  {
   "cell_type": "markdown",
   "id": "a11278cb-cd26-4f1b-8f5c-4498e445b11f",
   "metadata": {},
   "source": [
    "## References"
   ]
  },
  {
   "cell_type": "markdown",
   "id": "f0904f9d-7e08-4b77-8643-070897a33a63",
   "metadata": {},
   "source": [
    "#### https://en.wikipedia.org/wiki/Chelyabinsk_meteor"
   ]
  },
  {
   "cell_type": "markdown",
   "id": "1591b55b-d05a-4791-ab85-4fb3460d7731",
   "metadata": {},
   "source": [
    "#### https://www.kaggle.com/datasets/lovishbansal123/nasa-asteroids-classification/data"
   ]
  }
 ],
 "metadata": {
  "kernelspec": {
   "display_name": "Python 3 (ipykernel)",
   "language": "python",
   "name": "python3"
  },
  "language_info": {
   "codemirror_mode": {
    "name": "ipython",
    "version": 3
   },
   "file_extension": ".py",
   "mimetype": "text/x-python",
   "name": "python",
   "nbconvert_exporter": "python",
   "pygments_lexer": "ipython3",
   "version": "3.11.4"
  }
 },
 "nbformat": 4,
 "nbformat_minor": 5
}
